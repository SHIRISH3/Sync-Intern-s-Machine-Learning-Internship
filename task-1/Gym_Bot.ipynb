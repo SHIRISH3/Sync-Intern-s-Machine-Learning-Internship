{
  "nbformat": 4,
  "nbformat_minor": 0,
  "metadata": {
    "colab": {
      "provenance": []
    },
    "kernelspec": {
      "name": "python3",
      "display_name": "Python 3"
    },
    "language_info": {
      "name": "python"
    }
  },
  "cells": [
    {
      "cell_type": "code",
      "execution_count": 1,
      "metadata": {
        "colab": {
          "base_uri": "https://localhost:8080/"
        },
        "id": "b9q5lzcHDF39",
        "outputId": "57054b55-5c8d-47ea-a9f1-6d3320a18cdf"
      },
      "outputs": [
        {
          "output_type": "stream",
          "name": "stdout",
          "text": [
            "Requirement already satisfied: nltk in /usr/local/lib/python3.10/dist-packages (3.8.1)\n",
            "Requirement already satisfied: click in /usr/local/lib/python3.10/dist-packages (from nltk) (8.1.7)\n",
            "Requirement already satisfied: joblib in /usr/local/lib/python3.10/dist-packages (from nltk) (1.3.2)\n",
            "Requirement already satisfied: regex>=2021.8.3 in /usr/local/lib/python3.10/dist-packages (from nltk) (2023.6.3)\n",
            "Requirement already satisfied: tqdm in /usr/local/lib/python3.10/dist-packages (from nltk) (4.66.1)\n"
          ]
        }
      ],
      "source": [
        "pip install nltk"
      ]
    },
    {
      "cell_type": "code",
      "source": [
        "import nltk\n",
        "import random\n",
        "import string\n",
        "import warnings\n",
        "warnings.filterwarnings('ignore')"
      ],
      "metadata": {
        "id": "-hFgWLE9DJju"
      },
      "execution_count": 2,
      "outputs": []
    },
    {
      "cell_type": "code",
      "source": [
        "nltk.download('punkt')"
      ],
      "metadata": {
        "colab": {
          "base_uri": "https://localhost:8080/"
        },
        "id": "NZc2TEAyDSv5",
        "outputId": "2c56ca52-19d1-4164-e563-be243081c80c"
      },
      "execution_count": 3,
      "outputs": [
        {
          "output_type": "stream",
          "name": "stderr",
          "text": [
            "[nltk_data] Downloading package punkt to /root/nltk_data...\n",
            "[nltk_data]   Package punkt is already up-to-date!\n"
          ]
        },
        {
          "output_type": "execute_result",
          "data": {
            "text/plain": [
              "True"
            ]
          },
          "metadata": {},
          "execution_count": 3
        }
      ]
    },
    {
      "cell_type": "code",
      "source": [
        "f = open('Bot_data.txt', 'r', errors='ignore')\n",
        "raw = f.read()\n",
        "raw = raw.lower()"
      ],
      "metadata": {
        "id": "cVcqGYV4Dbiw"
      },
      "execution_count": 4,
      "outputs": []
    },
    {
      "cell_type": "code",
      "source": [
        "sent_tokens = nltk.sent_tokenize(raw) #converts to list of scentences\n",
        "word_tokens = nltk.word_tokenize(raw) #converts to list of words"
      ],
      "metadata": {
        "id": "XcpdRD-cDkRv"
      },
      "execution_count": 5,
      "outputs": []
    },
    {
      "cell_type": "code",
      "source": [
        "sentToken = sent_tokens[:4]\n",
        "#print(sentToken)\n",
        "wordToken = word_tokens[:4]\n",
        "#print(wordToken)"
      ],
      "metadata": {
        "id": "GUTokn-7DpZb"
      },
      "execution_count": 6,
      "outputs": []
    },
    {
      "cell_type": "code",
      "source": [
        "#preprocessing\n",
        "lemmer = nltk.stem.WordNetLemmatizer()\n",
        "\n",
        "def LemTokens(tokens):\n",
        "    return [lemmer.lemmatize(token) for token in tokens]\n",
        "remove_punct_dict = dict((ord(punct), None) for punct in string.punctuation)\n",
        "\n",
        "def LemNormalize(text):\n",
        "    return LemTokens(nltk.word_tokenize(text.lower().translate(remove_punct_dict)))"
      ],
      "metadata": {
        "id": "TvgjbirHDttj"
      },
      "execution_count": 7,
      "outputs": []
    },
    {
      "cell_type": "code",
      "source": [
        "#Greetings\n",
        "GREETING_INPUTS = (\"hello\", \"hi\", \"greetings\", \"good morning\", \"what's up\", \"hey\",\"good afternoon\",\"good evening\")\n",
        "GREETING_RESPONSES = [\"hi\", \"hey\", \"hi there\", \"hello\", \"I am glad! you are talking to me\"]\n",
        "\n",
        "def greeting(scentence):\n",
        "\n",
        "    for word in scentence.split():\n",
        "        if word.lower() in GREETING_INPUTS:\n",
        "            return random.choice(GREETING_RESPONSES)"
      ],
      "metadata": {
        "id": "gsuuDJk-DyB7"
      },
      "execution_count": 8,
      "outputs": []
    },
    {
      "cell_type": "code",
      "source": [
        "#Vectorizer\n",
        "\n",
        "from sklearn.feature_extraction.text import TfidfVectorizer\n",
        "from sklearn.metrics.pairwise import cosine_similarity\n",
        "\n",
        "def response(user_response):\n",
        "    chatbot_response = ''\n",
        "    sent_tokens.append(user_response)\n",
        "    TfidfVec = TfidfVectorizer(tokenizer=LemNormalize, stop_words=\"english\")\n",
        "    tfidf = TfidfVec.fit_transform(sent_tokens)\n",
        "    vals = cosine_similarity(tfidf[-1], tfidf)\n",
        "    idx = vals.argsort()[0][-2]\n",
        "    flat = vals.flatten()\n",
        "    flat.sort()\n",
        "    req_tfidf = flat[-2]\n",
        "    if(req_tfidf == 0):\n",
        "        chatbot_response = chatbot_response + \"I am sorry! I don't understand you\"\n",
        "        return chatbot_response\n",
        "\n",
        "    else:\n",
        "        chatbot_response=chatbot_response+sent_tokens[idx]\n",
        "        return chatbot_response"
      ],
      "metadata": {
        "id": "NP7LXg9iD0-3"
      },
      "execution_count": 9,
      "outputs": []
    },
    {
      "cell_type": "code",
      "source": [
        "nltk.download('wordnet')"
      ],
      "metadata": {
        "colab": {
          "base_uri": "https://localhost:8080/"
        },
        "id": "qRM5DpRbD8ex",
        "outputId": "0a0d6151-6f8d-4ab9-d945-9a295a008031"
      },
      "execution_count": 10,
      "outputs": [
        {
          "output_type": "stream",
          "name": "stderr",
          "text": [
            "[nltk_data] Downloading package wordnet to /root/nltk_data...\n",
            "[nltk_data]   Package wordnet is already up-to-date!\n"
          ]
        },
        {
          "output_type": "execute_result",
          "data": {
            "text/plain": [
              "True"
            ]
          },
          "metadata": {},
          "execution_count": 10
        }
      ]
    },
    {
      "cell_type": "code",
      "source": [
        "if __name__ == \"__main__\":\n",
        "    flag = True\n",
        "    print(\"Hello, there my name is Bot. I will answer your queries. If you want to exit, type Bye!\")\n",
        "    while(flag==True):\n",
        "        user_response = input()\n",
        "        user_response = user_response.lower()\n",
        "        if(user_response!='bye'):\n",
        "            if user_response == 'thanks' or user_response == 'thank you':\n",
        "                flag = False\n",
        "                print(\"Bot: You're welcome!\")\n",
        "            else:\n",
        "                if(greeting(user_response)!=None):\n",
        "                    print(\"Bot:\" +greeting(user_response))\n",
        "                else:\n",
        "                    print(\"Bot:\", end='')\n",
        "                    print(response(user_response))\n",
        "                    sent_tokens.remove(user_response)\n",
        "        else:\n",
        "            flag = False\n",
        "            print(\"Bot: Bye! Have a great time!\" )"
      ],
      "metadata": {
        "colab": {
          "base_uri": "https://localhost:8080/"
        },
        "id": "c2NCwGIiD5aw",
        "outputId": "5696f021-55ca-4a4a-abae-dce09d3e4048"
      },
      "execution_count": 14,
      "outputs": [
        {
          "output_type": "stream",
          "name": "stdout",
          "text": [
            "Hello, there my name is Bot. I will answer your queries. If you want to exit, type Bye!\n",
            "hi\n",
            "Bot:I am glad! you are talking to me\n",
            "what are the membership plans\n",
            "Bot:membership plan price-classic yearly plan = 10000 rs,silver yearly plan = 15000 rs,golden yearly plan =20000 rs.\n",
            "is there any trial plan\n",
            "Bot:15 daysfree trial plan available.\n",
            "give me contact details\n",
            "Bot:gym contact number 98xxxxxx10.\n",
            "bye\n",
            "Bot: Bye! Have a great time!\n"
          ]
        }
      ]
    },
    {
      "cell_type": "code",
      "source": [],
      "metadata": {
        "id": "OG-Kl0KGF6FR"
      },
      "execution_count": null,
      "outputs": []
    }
  ]
}