{
  "cells": [
    {
      "cell_type": "code",
      "execution_count": 3,
      "metadata": {
        "_cell_guid": "b1076dfc-b9ad-4769-8c92-a6c4dae69d19",
        "_uuid": "8f2839f25d086af736a60e9eeb907d3b93b6e0e5",
        "id": "GjmMmIELnJil"
      },
      "outputs": [],
      "source": [
        "import numpy as np\n",
        "import matplotlib.pyplot as plt\n",
        "import seaborn as sns\n",
        "import pandas as pd"
      ]
    },
    {
      "cell_type": "code",
      "execution_count": 4,
      "metadata": {
        "_cell_guid": "79c7e3d0-c299-4dcb-8224-4455121ee9b0",
        "_uuid": "d629ff2d2480ee46fbb7e2d37f6b5fab8052498a",
        "id": "IrI_DOffnJis"
      },
      "outputs": [],
      "source": [
        "train=pd.read_csv('sign_mnist_test.csv')\n",
        "test=pd.read_csv('sign_mnist_train.csv')"
      ]
    },
    {
      "cell_type": "code",
      "execution_count": 5,
      "metadata": {
        "colab": {
          "base_uri": "https://localhost:8080/",
          "height": 256
        },
        "id": "5jcR97LxnJiw",
        "outputId": "fef6c720-b96d-4f89-9800-4872d6478d0c"
      },
      "outputs": [
        {
          "output_type": "execute_result",
          "data": {
            "text/plain": [
              "   label  pixel1  pixel2  pixel3  pixel4  pixel5  pixel6  pixel7  pixel8  \\\n",
              "0      6     149     149     150     150     150     151     151     150   \n",
              "1      5     126     128     131     132     133     134     135     135   \n",
              "2     10      85      88      92      96     105     123     135     143   \n",
              "3      0     203     205     207     206     207     209     210     209   \n",
              "4      3     188     191     193     195     199     201     202     203   \n",
              "\n",
              "   pixel9  ...  pixel775  pixel776  pixel777  pixel778  pixel779  pixel780  \\\n",
              "0     151  ...       138       148       127        89        82        96   \n",
              "1     136  ...        47       104       194       183       186       184   \n",
              "2     147  ...        68       166       242       227       230       227   \n",
              "3     210  ...       154       248       247       248       253       236   \n",
              "4     203  ...        26        40        64        48        29        46   \n",
              "\n",
              "   pixel781  pixel782  pixel783  pixel784  \n",
              "0       106       112       120       107  \n",
              "1       184       184       182       180  \n",
              "2       226       225       224       222  \n",
              "3       230       240       253       255  \n",
              "4        49        46        46        53  \n",
              "\n",
              "[5 rows x 785 columns]"
            ],
            "text/html": [
              "\n",
              "  <div id=\"df-6b7a4bd1-7bf0-4fe5-8242-4282ecc0658f\" class=\"colab-df-container\">\n",
              "    <div>\n",
              "<style scoped>\n",
              "    .dataframe tbody tr th:only-of-type {\n",
              "        vertical-align: middle;\n",
              "    }\n",
              "\n",
              "    .dataframe tbody tr th {\n",
              "        vertical-align: top;\n",
              "    }\n",
              "\n",
              "    .dataframe thead th {\n",
              "        text-align: right;\n",
              "    }\n",
              "</style>\n",
              "<table border=\"1\" class=\"dataframe\">\n",
              "  <thead>\n",
              "    <tr style=\"text-align: right;\">\n",
              "      <th></th>\n",
              "      <th>label</th>\n",
              "      <th>pixel1</th>\n",
              "      <th>pixel2</th>\n",
              "      <th>pixel3</th>\n",
              "      <th>pixel4</th>\n",
              "      <th>pixel5</th>\n",
              "      <th>pixel6</th>\n",
              "      <th>pixel7</th>\n",
              "      <th>pixel8</th>\n",
              "      <th>pixel9</th>\n",
              "      <th>...</th>\n",
              "      <th>pixel775</th>\n",
              "      <th>pixel776</th>\n",
              "      <th>pixel777</th>\n",
              "      <th>pixel778</th>\n",
              "      <th>pixel779</th>\n",
              "      <th>pixel780</th>\n",
              "      <th>pixel781</th>\n",
              "      <th>pixel782</th>\n",
              "      <th>pixel783</th>\n",
              "      <th>pixel784</th>\n",
              "    </tr>\n",
              "  </thead>\n",
              "  <tbody>\n",
              "    <tr>\n",
              "      <th>0</th>\n",
              "      <td>6</td>\n",
              "      <td>149</td>\n",
              "      <td>149</td>\n",
              "      <td>150</td>\n",
              "      <td>150</td>\n",
              "      <td>150</td>\n",
              "      <td>151</td>\n",
              "      <td>151</td>\n",
              "      <td>150</td>\n",
              "      <td>151</td>\n",
              "      <td>...</td>\n",
              "      <td>138</td>\n",
              "      <td>148</td>\n",
              "      <td>127</td>\n",
              "      <td>89</td>\n",
              "      <td>82</td>\n",
              "      <td>96</td>\n",
              "      <td>106</td>\n",
              "      <td>112</td>\n",
              "      <td>120</td>\n",
              "      <td>107</td>\n",
              "    </tr>\n",
              "    <tr>\n",
              "      <th>1</th>\n",
              "      <td>5</td>\n",
              "      <td>126</td>\n",
              "      <td>128</td>\n",
              "      <td>131</td>\n",
              "      <td>132</td>\n",
              "      <td>133</td>\n",
              "      <td>134</td>\n",
              "      <td>135</td>\n",
              "      <td>135</td>\n",
              "      <td>136</td>\n",
              "      <td>...</td>\n",
              "      <td>47</td>\n",
              "      <td>104</td>\n",
              "      <td>194</td>\n",
              "      <td>183</td>\n",
              "      <td>186</td>\n",
              "      <td>184</td>\n",
              "      <td>184</td>\n",
              "      <td>184</td>\n",
              "      <td>182</td>\n",
              "      <td>180</td>\n",
              "    </tr>\n",
              "    <tr>\n",
              "      <th>2</th>\n",
              "      <td>10</td>\n",
              "      <td>85</td>\n",
              "      <td>88</td>\n",
              "      <td>92</td>\n",
              "      <td>96</td>\n",
              "      <td>105</td>\n",
              "      <td>123</td>\n",
              "      <td>135</td>\n",
              "      <td>143</td>\n",
              "      <td>147</td>\n",
              "      <td>...</td>\n",
              "      <td>68</td>\n",
              "      <td>166</td>\n",
              "      <td>242</td>\n",
              "      <td>227</td>\n",
              "      <td>230</td>\n",
              "      <td>227</td>\n",
              "      <td>226</td>\n",
              "      <td>225</td>\n",
              "      <td>224</td>\n",
              "      <td>222</td>\n",
              "    </tr>\n",
              "    <tr>\n",
              "      <th>3</th>\n",
              "      <td>0</td>\n",
              "      <td>203</td>\n",
              "      <td>205</td>\n",
              "      <td>207</td>\n",
              "      <td>206</td>\n",
              "      <td>207</td>\n",
              "      <td>209</td>\n",
              "      <td>210</td>\n",
              "      <td>209</td>\n",
              "      <td>210</td>\n",
              "      <td>...</td>\n",
              "      <td>154</td>\n",
              "      <td>248</td>\n",
              "      <td>247</td>\n",
              "      <td>248</td>\n",
              "      <td>253</td>\n",
              "      <td>236</td>\n",
              "      <td>230</td>\n",
              "      <td>240</td>\n",
              "      <td>253</td>\n",
              "      <td>255</td>\n",
              "    </tr>\n",
              "    <tr>\n",
              "      <th>4</th>\n",
              "      <td>3</td>\n",
              "      <td>188</td>\n",
              "      <td>191</td>\n",
              "      <td>193</td>\n",
              "      <td>195</td>\n",
              "      <td>199</td>\n",
              "      <td>201</td>\n",
              "      <td>202</td>\n",
              "      <td>203</td>\n",
              "      <td>203</td>\n",
              "      <td>...</td>\n",
              "      <td>26</td>\n",
              "      <td>40</td>\n",
              "      <td>64</td>\n",
              "      <td>48</td>\n",
              "      <td>29</td>\n",
              "      <td>46</td>\n",
              "      <td>49</td>\n",
              "      <td>46</td>\n",
              "      <td>46</td>\n",
              "      <td>53</td>\n",
              "    </tr>\n",
              "  </tbody>\n",
              "</table>\n",
              "<p>5 rows × 785 columns</p>\n",
              "</div>\n",
              "    <div class=\"colab-df-buttons\">\n",
              "\n",
              "  <div class=\"colab-df-container\">\n",
              "    <button class=\"colab-df-convert\" onclick=\"convertToInteractive('df-6b7a4bd1-7bf0-4fe5-8242-4282ecc0658f')\"\n",
              "            title=\"Convert this dataframe to an interactive table.\"\n",
              "            style=\"display:none;\">\n",
              "\n",
              "  <svg xmlns=\"http://www.w3.org/2000/svg\" height=\"24px\" viewBox=\"0 -960 960 960\">\n",
              "    <path d=\"M120-120v-720h720v720H120Zm60-500h600v-160H180v160Zm220 220h160v-160H400v160Zm0 220h160v-160H400v160ZM180-400h160v-160H180v160Zm440 0h160v-160H620v160ZM180-180h160v-160H180v160Zm440 0h160v-160H620v160Z\"/>\n",
              "  </svg>\n",
              "    </button>\n",
              "\n",
              "  <style>\n",
              "    .colab-df-container {\n",
              "      display:flex;\n",
              "      gap: 12px;\n",
              "    }\n",
              "\n",
              "    .colab-df-convert {\n",
              "      background-color: #E8F0FE;\n",
              "      border: none;\n",
              "      border-radius: 50%;\n",
              "      cursor: pointer;\n",
              "      display: none;\n",
              "      fill: #1967D2;\n",
              "      height: 32px;\n",
              "      padding: 0 0 0 0;\n",
              "      width: 32px;\n",
              "    }\n",
              "\n",
              "    .colab-df-convert:hover {\n",
              "      background-color: #E2EBFA;\n",
              "      box-shadow: 0px 1px 2px rgba(60, 64, 67, 0.3), 0px 1px 3px 1px rgba(60, 64, 67, 0.15);\n",
              "      fill: #174EA6;\n",
              "    }\n",
              "\n",
              "    .colab-df-buttons div {\n",
              "      margin-bottom: 4px;\n",
              "    }\n",
              "\n",
              "    [theme=dark] .colab-df-convert {\n",
              "      background-color: #3B4455;\n",
              "      fill: #D2E3FC;\n",
              "    }\n",
              "\n",
              "    [theme=dark] .colab-df-convert:hover {\n",
              "      background-color: #434B5C;\n",
              "      box-shadow: 0px 1px 3px 1px rgba(0, 0, 0, 0.15);\n",
              "      filter: drop-shadow(0px 1px 2px rgba(0, 0, 0, 0.3));\n",
              "      fill: #FFFFFF;\n",
              "    }\n",
              "  </style>\n",
              "\n",
              "    <script>\n",
              "      const buttonEl =\n",
              "        document.querySelector('#df-6b7a4bd1-7bf0-4fe5-8242-4282ecc0658f button.colab-df-convert');\n",
              "      buttonEl.style.display =\n",
              "        google.colab.kernel.accessAllowed ? 'block' : 'none';\n",
              "\n",
              "      async function convertToInteractive(key) {\n",
              "        const element = document.querySelector('#df-6b7a4bd1-7bf0-4fe5-8242-4282ecc0658f');\n",
              "        const dataTable =\n",
              "          await google.colab.kernel.invokeFunction('convertToInteractive',\n",
              "                                                    [key], {});\n",
              "        if (!dataTable) return;\n",
              "\n",
              "        const docLinkHtml = 'Like what you see? Visit the ' +\n",
              "          '<a target=\"_blank\" href=https://colab.research.google.com/notebooks/data_table.ipynb>data table notebook</a>'\n",
              "          + ' to learn more about interactive tables.';\n",
              "        element.innerHTML = '';\n",
              "        dataTable['output_type'] = 'display_data';\n",
              "        await google.colab.output.renderOutput(dataTable, element);\n",
              "        const docLink = document.createElement('div');\n",
              "        docLink.innerHTML = docLinkHtml;\n",
              "        element.appendChild(docLink);\n",
              "      }\n",
              "    </script>\n",
              "  </div>\n",
              "\n",
              "\n",
              "<div id=\"df-0eaaaf3d-7d29-43ae-973d-cb60adec5577\">\n",
              "  <button class=\"colab-df-quickchart\" onclick=\"quickchart('df-0eaaaf3d-7d29-43ae-973d-cb60adec5577')\"\n",
              "            title=\"Suggest charts.\"\n",
              "            style=\"display:none;\">\n",
              "\n",
              "<svg xmlns=\"http://www.w3.org/2000/svg\" height=\"24px\"viewBox=\"0 0 24 24\"\n",
              "     width=\"24px\">\n",
              "    <g>\n",
              "        <path d=\"M19 3H5c-1.1 0-2 .9-2 2v14c0 1.1.9 2 2 2h14c1.1 0 2-.9 2-2V5c0-1.1-.9-2-2-2zM9 17H7v-7h2v7zm4 0h-2V7h2v10zm4 0h-2v-4h2v4z\"/>\n",
              "    </g>\n",
              "</svg>\n",
              "  </button>\n",
              "\n",
              "<style>\n",
              "  .colab-df-quickchart {\n",
              "      --bg-color: #E8F0FE;\n",
              "      --fill-color: #1967D2;\n",
              "      --hover-bg-color: #E2EBFA;\n",
              "      --hover-fill-color: #174EA6;\n",
              "      --disabled-fill-color: #AAA;\n",
              "      --disabled-bg-color: #DDD;\n",
              "  }\n",
              "\n",
              "  [theme=dark] .colab-df-quickchart {\n",
              "      --bg-color: #3B4455;\n",
              "      --fill-color: #D2E3FC;\n",
              "      --hover-bg-color: #434B5C;\n",
              "      --hover-fill-color: #FFFFFF;\n",
              "      --disabled-bg-color: #3B4455;\n",
              "      --disabled-fill-color: #666;\n",
              "  }\n",
              "\n",
              "  .colab-df-quickchart {\n",
              "    background-color: var(--bg-color);\n",
              "    border: none;\n",
              "    border-radius: 50%;\n",
              "    cursor: pointer;\n",
              "    display: none;\n",
              "    fill: var(--fill-color);\n",
              "    height: 32px;\n",
              "    padding: 0;\n",
              "    width: 32px;\n",
              "  }\n",
              "\n",
              "  .colab-df-quickchart:hover {\n",
              "    background-color: var(--hover-bg-color);\n",
              "    box-shadow: 0 1px 2px rgba(60, 64, 67, 0.3), 0 1px 3px 1px rgba(60, 64, 67, 0.15);\n",
              "    fill: var(--button-hover-fill-color);\n",
              "  }\n",
              "\n",
              "  .colab-df-quickchart-complete:disabled,\n",
              "  .colab-df-quickchart-complete:disabled:hover {\n",
              "    background-color: var(--disabled-bg-color);\n",
              "    fill: var(--disabled-fill-color);\n",
              "    box-shadow: none;\n",
              "  }\n",
              "\n",
              "  .colab-df-spinner {\n",
              "    border: 2px solid var(--fill-color);\n",
              "    border-color: transparent;\n",
              "    border-bottom-color: var(--fill-color);\n",
              "    animation:\n",
              "      spin 1s steps(1) infinite;\n",
              "  }\n",
              "\n",
              "  @keyframes spin {\n",
              "    0% {\n",
              "      border-color: transparent;\n",
              "      border-bottom-color: var(--fill-color);\n",
              "      border-left-color: var(--fill-color);\n",
              "    }\n",
              "    20% {\n",
              "      border-color: transparent;\n",
              "      border-left-color: var(--fill-color);\n",
              "      border-top-color: var(--fill-color);\n",
              "    }\n",
              "    30% {\n",
              "      border-color: transparent;\n",
              "      border-left-color: var(--fill-color);\n",
              "      border-top-color: var(--fill-color);\n",
              "      border-right-color: var(--fill-color);\n",
              "    }\n",
              "    40% {\n",
              "      border-color: transparent;\n",
              "      border-right-color: var(--fill-color);\n",
              "      border-top-color: var(--fill-color);\n",
              "    }\n",
              "    60% {\n",
              "      border-color: transparent;\n",
              "      border-right-color: var(--fill-color);\n",
              "    }\n",
              "    80% {\n",
              "      border-color: transparent;\n",
              "      border-right-color: var(--fill-color);\n",
              "      border-bottom-color: var(--fill-color);\n",
              "    }\n",
              "    90% {\n",
              "      border-color: transparent;\n",
              "      border-bottom-color: var(--fill-color);\n",
              "    }\n",
              "  }\n",
              "</style>\n",
              "\n",
              "  <script>\n",
              "    async function quickchart(key) {\n",
              "      const quickchartButtonEl =\n",
              "        document.querySelector('#' + key + ' button');\n",
              "      quickchartButtonEl.disabled = true;  // To prevent multiple clicks.\n",
              "      quickchartButtonEl.classList.add('colab-df-spinner');\n",
              "      try {\n",
              "        const charts = await google.colab.kernel.invokeFunction(\n",
              "            'suggestCharts', [key], {});\n",
              "      } catch (error) {\n",
              "        console.error('Error during call to suggestCharts:', error);\n",
              "      }\n",
              "      quickchartButtonEl.classList.remove('colab-df-spinner');\n",
              "      quickchartButtonEl.classList.add('colab-df-quickchart-complete');\n",
              "    }\n",
              "    (() => {\n",
              "      let quickchartButtonEl =\n",
              "        document.querySelector('#df-0eaaaf3d-7d29-43ae-973d-cb60adec5577 button');\n",
              "      quickchartButtonEl.style.display =\n",
              "        google.colab.kernel.accessAllowed ? 'block' : 'none';\n",
              "    })();\n",
              "  </script>\n",
              "</div>\n",
              "    </div>\n",
              "  </div>\n"
            ]
          },
          "metadata": {},
          "execution_count": 5
        }
      ],
      "source": [
        "train.head()"
      ]
    },
    {
      "cell_type": "code",
      "execution_count": 6,
      "metadata": {
        "colab": {
          "base_uri": "https://localhost:8080/"
        },
        "id": "HxAraeJonJi3",
        "outputId": "c9473c66-822b-4f0d-efeb-e6c8c9f33392"
      },
      "outputs": [
        {
          "output_type": "stream",
          "name": "stdout",
          "text": [
            "<class 'pandas.core.frame.DataFrame'>\n",
            "RangeIndex: 7172 entries, 0 to 7171\n",
            "Columns: 785 entries, label to pixel784\n",
            "dtypes: int64(785)\n",
            "memory usage: 43.0 MB\n"
          ]
        }
      ],
      "source": [
        "train.info()"
      ]
    },
    {
      "cell_type": "code",
      "execution_count": 7,
      "metadata": {
        "colab": {
          "base_uri": "https://localhost:8080/"
        },
        "id": "wG-1nSzTnJi3",
        "outputId": "f86b4247-4136-4320-943a-09f8e949f9c7"
      },
      "outputs": [
        {
          "output_type": "stream",
          "name": "stdout",
          "text": [
            "<class 'pandas.core.frame.DataFrame'>\n",
            "RangeIndex: 27455 entries, 0 to 27454\n",
            "Columns: 785 entries, label to pixel784\n",
            "dtypes: int64(785)\n",
            "memory usage: 164.4 MB\n"
          ]
        }
      ],
      "source": [
        "test.info()"
      ]
    },
    {
      "cell_type": "code",
      "execution_count": 8,
      "metadata": {
        "colab": {
          "base_uri": "https://localhost:8080/"
        },
        "id": "wkiXLc8enJi4",
        "outputId": "73013f6f-3c48-4b87-ea20-6fcf46fc503b"
      },
      "outputs": [
        {
          "output_type": "execute_result",
          "data": {
            "text/plain": [
              "(7172, 785)"
            ]
          },
          "metadata": {},
          "execution_count": 8
        }
      ],
      "source": [
        "train.shape"
      ]
    },
    {
      "cell_type": "code",
      "execution_count": null,
      "metadata": {
        "id": "1TLo_iFPnJi5"
      },
      "outputs": [],
      "source": []
    },
    {
      "cell_type": "code",
      "execution_count": 9,
      "metadata": {
        "colab": {
          "base_uri": "https://localhost:8080/",
          "height": 223
        },
        "id": "tO3MnRBNnJi5",
        "outputId": "8cffcc57-e8c2-4b38-d2bc-b5079c8b6c0f"
      },
      "outputs": [
        {
          "output_type": "display_data",
          "data": {
            "text/plain": [
              "<Figure size 2000x600 with 6 Axes>"
            ],
            "image/png": "[encoded data removed]"
          },
          "metadata": {}
        }
      ],
      "source": [
        "#Data visualization\n",
        "f=plt.figure(figsize=(20,6))\n",
        "ax=f.add_subplot(161)\n",
        "ax2=f.add_subplot(162)\n",
        "ax3=f.add_subplot(163)\n",
        "ax4=f.add_subplot(164)\n",
        "ax5=f.add_subplot(165)\n",
        "ax6=f.add_subplot(166)\n",
        "ax.imshow(train.iloc[0].values[1:].reshape(28,28))\n",
        "ax2.imshow(train.iloc[5].values[1:].reshape(28,28))\n",
        "ax3.imshow(train.iloc[20].values[1:].reshape(28,28))\n",
        "ax4.imshow(train.iloc[456].values[1:].reshape(28,28))\n",
        "ax5.imshow(train.iloc[999].values[1:].reshape(28,28))\n",
        "ax6.imshow(train.iloc[1500].values[1:].reshape(28,28))\n",
        "\n",
        "plt.show()"
      ]
    },
    {
      "cell_type": "code",
      "execution_count": 10,
      "metadata": {
        "colab": {
          "base_uri": "https://localhost:8080/",
          "height": 693
        },
        "id": "-uV7Tc8WnJi6",
        "outputId": "afd4c31e-8c4f-4be9-f07c-512793b1e2f2"
      },
      "outputs": [
        {
          "output_type": "execute_result",
          "data": {
            "text/plain": [
              "<Axes: ylabel='count'>"
            ]
          },
          "metadata": {},
          "execution_count": 10
        },
        {
          "output_type": "display_data",
          "data": {
            "text/plain": [
              "<Figure size 1400x800 with 1 Axes>"
            ],
            "image/png": "[encoded data removed]"
          },
          "metadata": {}
        }
      ],
      "source": [
        "labels = train['label'].values\n",
        "plt.figure(figsize = (14,8))\n",
        "sns.countplot(x =labels)"
      ]
    },
    {
      "cell_type": "code",
      "execution_count": 11,
      "metadata": {
        "id": "-aEJgvQnnJi7"
      },
      "outputs": [],
      "source": [
        "\n",
        "X_train = train.drop([\"label\"],axis=1)\n",
        "X_test = test.drop([\"label\"],axis=1)\n",
        "Y_train = train['label']\n",
        "Y_test = test['label']\n",
        "del train['label']\n",
        "del test['label']"
      ]
    },
    {
      "cell_type": "code",
      "execution_count": 12,
      "metadata": {
        "colab": {
          "base_uri": "https://localhost:8080/"
        },
        "id": "AlrWGCDQnJi7",
        "outputId": "5c375947-bedb-4681-9356-23fdf9c7a2c7"
      },
      "outputs": [
        {
          "output_type": "execute_result",
          "data": {
            "text/plain": [
              "(27455, 784)"
            ]
          },
          "metadata": {},
          "execution_count": 12
        }
      ],
      "source": [
        "#Data normalization,CNN works faster\n",
        "X_train = X_train/255.0\n",
        "X_test = X_test/255.0\n",
        "X_train.shape\n",
        "X_test.shape"
      ]
    },
    {
      "cell_type": "code",
      "execution_count": 13,
      "metadata": {
        "colab": {
          "base_uri": "https://localhost:8080/"
        },
        "id": "znlGwdO4nJi8",
        "outputId": "69d3278b-e2d3-4e09-f84d-f764abb80710"
      },
      "outputs": [
        {
          "output_type": "execute_result",
          "data": {
            "text/plain": [
              "(27455, 28, 28, 1)"
            ]
          },
          "metadata": {},
          "execution_count": 13
        }
      ],
      "source": [
        "#Reshaping\n",
        "X_train = X_train.values.reshape(-1,28,28,1)\n",
        "X_test = X_test.values.reshape(-1,28,28,1)\n",
        "X_train.shape\n",
        "X_test.shape"
      ]
    },
    {
      "cell_type": "code",
      "execution_count": 14,
      "metadata": {
        "id": "YIq5zVqjnJi9"
      },
      "outputs": [],
      "source": [
        "#Label encoding\n",
        "from sklearn.preprocessing import LabelBinarizer\n",
        "label_binrizer = LabelBinarizer()\n",
        "Y_train = label_binrizer.fit_transform(Y_train)"
      ]
    },
    {
      "cell_type": "code",
      "execution_count": 15,
      "metadata": {
        "colab": {
          "base_uri": "https://localhost:8080/"
        },
        "id": "XQcLtJs2nJi9",
        "outputId": "dade81e1-a6e2-4ce7-daac-1b14cdad3be8"
      },
      "outputs": [
        {
          "output_type": "stream",
          "name": "stdout",
          "text": [
            "x_train shape (5737, 28, 28, 1)\n",
            "x_test shape (1435, 28, 28, 1)\n",
            "y_train shape (5737, 24)\n",
            "y_test shape (1435, 24)\n"
          ]
        }
      ],
      "source": [
        "from sklearn.model_selection import train_test_split\n",
        "X_train, X_val, Y_train, Y_val = train_test_split(X_train, Y_train, test_size=0.2, random_state=42)\n",
        "\n",
        "print(\"x_train shape\",X_train.shape)\n",
        "print(\"x_test shape\",X_val.shape)\n",
        "print(\"y_train shape\",Y_train.shape)\n",
        "print(\"y_test shape\",Y_val.shape)"
      ]
    },
    {
      "cell_type": "code",
      "execution_count": 16,
      "metadata": {
        "colab": {
          "base_uri": "https://localhost:8080/",
          "height": 430
        },
        "id": "bSMKBuU2nJi-",
        "outputId": "796fb66e-84e1-496c-d672-8f6c3d5d0ad3"
      },
      "outputs": [
        {
          "output_type": "display_data",
          "data": {
            "text/plain": [
              "<Figure size 640x480 with 1 Axes>"
            ],
            "image/png": "[encoded data removed]"
          },
          "metadata": {}
        }
      ],
      "source": [
        "plt.imshow(X_train[10][:,:,0],cmap=\"gray\")\n",
        "plt.show()"
      ]
    },
    {
      "cell_type": "code",
      "execution_count": 26,
      "metadata": {
        "colab": {
          "base_uri": "https://localhost:8080/"
        },
        "id": "HoO_FVD_nJi-",
        "outputId": "4078b10d-554a-4eb5-c981-92717170d94b"
      },
      "outputs": [
        {
          "output_type": "stream",
          "name": "stdout",
          "text": [
            "Model: \"sequential_1\"\n",
            "_________________________________________________________________\n",
            " Layer (type)                Output Shape              Param #   \n",
            "=================================================================\n",
            " conv2d_4 (Conv2D)           (None, 28, 28, 64)        640       \n",
            "                                                                 \n",
            " max_pooling2d_3 (MaxPoolin  (None, 14, 14, 64)        0         \n",
            " g2D)                                                            \n",
            "                                                                 \n",
            " conv2d_5 (Conv2D)           (None, 14, 14, 128)       73856     \n",
            "                                                                 \n",
            " max_pooling2d_4 (MaxPoolin  (None, 7, 7, 128)         0         \n",
            " g2D)                                                            \n",
            "                                                                 \n",
            " conv2d_6 (Conv2D)           (None, 7, 7, 512)         590336    \n",
            "                                                                 \n",
            " max_pooling2d_5 (MaxPoolin  (None, 3, 3, 512)         0         \n",
            " g2D)                                                            \n",
            "                                                                 \n",
            " conv2d_7 (Conv2D)           (None, 3, 3, 512)         2359808   \n",
            "                                                                 \n",
            " flatten_1 (Flatten)         (None, 4608)              0         \n",
            "                                                                 \n",
            " dense_2 (Dense)             (None, 512)               2359808   \n",
            "                                                                 \n",
            " dense_3 (Dense)             (None, 24)                12312     \n",
            "                                                                 \n",
            "=================================================================\n",
            "Total params: 5396760 (20.59 MB)\n",
            "Trainable params: 5396760 (20.59 MB)\n",
            "Non-trainable params: 0 (0.00 Byte)\n",
            "_________________________________________________________________\n"
          ]
        }
      ],
      "source": [
        "from sklearn.metrics import confusion_matrix\n",
        "import itertools\n",
        "import tensorflow as tf\n",
        "\n",
        "from keras.utils import to_categorical # convert to one-hot-encoding\n",
        "from keras.models import Sequential\n",
        "from keras.layers import Dense, Dropout, Flatten, Conv2D, MaxPool2D\n",
        "from keras.optimizers import RMSprop,Adam\n",
        "from keras.preprocessing.image import ImageDataGenerator\n",
        "from keras.callbacks import ReduceLROnPlateau\n",
        "\n",
        "\n",
        "model = tf.keras.models.Sequential([\n",
        "                        tf.keras.layers.Conv2D(64, (3, 3), activation='relu',padding = 'same', input_shape=(28, 28, 1)),\n",
        "                        tf.keras.layers.MaxPooling2D(2, 2),\n",
        "                        tf.keras.layers.Conv2D(128, (3, 3),padding = 'same', activation='relu'),\n",
        "                        tf.keras.layers.MaxPooling2D(2, 2),\n",
        "                        tf.keras.layers.Conv2D(512, (3, 3),padding = 'same', activation='relu'),\n",
        "                        tf.keras.layers.MaxPooling2D(2, 2),\n",
        "\n",
        "                        tf.keras.layers.Conv2D(512, (3, 3),padding = 'same', activation='relu'),\n",
        "                        tf.keras.layers.Flatten(),\n",
        "                        tf.keras.layers.Dense(512, activation='relu'),\n",
        "                        tf.keras.layers.Dense(24, activation='softmax')])\n",
        "model.summary()"
      ]
    },
    {
      "cell_type": "code",
      "execution_count": 21,
      "metadata": {
        "id": "-1fSwgz3nJjA"
      },
      "outputs": [],
      "source": [
        "#optimizer = Adam(lr=0.003, beta_1=0.9, beta_2=0.999)\n",
        "\n",
        "model.compile( optimizer='rmsprop' , loss = \"categorical_crossentropy\", metrics=[\"accuracy\"])"
      ]
    },
    {
      "cell_type": "code",
      "execution_count": 22,
      "metadata": {
        "id": "mJmcDDhGnJjA"
      },
      "outputs": [],
      "source": [
        "epochs = 50\n",
        "batch_size = 200\n"
      ]
    },
    {
      "cell_type": "code",
      "execution_count": 23,
      "metadata": {
        "id": "zcDw9KuZnJjB"
      },
      "outputs": [],
      "source": [
        "#Data augmentation\n",
        "datagen = ImageDataGenerator(\n",
        "        featurewise_center=False,\n",
        "        samplewise_center=False,\n",
        "        featurewise_std_normalization=False,\n",
        "        samplewise_std_normalization=False,\n",
        "        zca_whitening=False,\n",
        "        rotation_range=15,\n",
        "        zoom_range = 0.5,\n",
        "        width_shift_range=0.15,\n",
        "        height_shift_range=0.15,\n",
        "        horizontal_flip=True,\n",
        "        vertical_flip=False)\n",
        "\n",
        "datagen.fit(X_train)"
      ]
    },
    {
      "cell_type": "code",
      "execution_count": 24,
      "metadata": {
        "colab": {
          "base_uri": "https://localhost:8080/"
        },
        "id": "mzBtgl2UnJjF",
        "outputId": "6fc08aaa-9577-4f24-9b26-eb6f1c9c4c7c"
      },
      "outputs": [
        {
          "output_type": "stream",
          "name": "stdout",
          "text": [
            "Epoch 1/50\n"
          ]
        },
        {
          "output_type": "stream",
          "name": "stderr",
          "text": [
            "<ipython-input-24-6f14273d6fe3>:1: UserWarning: `Model.fit_generator` is deprecated and will be removed in a future version. Please use `Model.fit`, which supports generators.\n",
            "  history = model.fit_generator(datagen.flow(X_train,Y_train, batch_size=batch_size),epochs = epochs, validation_data = (X_val,Y_val), steps_per_epoch=X_train.shape[0] // batch_size)\n"
          ]
        },
        {
          "output_type": "stream",
          "name": "stdout",
          "text": [
            "28/28 [==============================] - 15s 107ms/step - loss: 3.1608 - accuracy: 0.0652 - val_loss: 3.1518 - val_accuracy: 0.0627\n",
            "Epoch 2/50\n",
            "28/28 [==============================] - 2s 87ms/step - loss: 3.1403 - accuracy: 0.0679 - val_loss: 3.1527 - val_accuracy: 0.0627\n",
            "Epoch 3/50\n",
            "28/28 [==============================] - 3s 90ms/step - loss: 3.1321 - accuracy: 0.0717 - val_loss: 3.1557 - val_accuracy: 0.0425\n",
            "Epoch 4/50\n",
            "28/28 [==============================] - 2s 75ms/step - loss: 3.0895 - accuracy: 0.0997 - val_loss: 2.9538 - val_accuracy: 0.1289\n",
            "Epoch 5/50\n",
            "28/28 [==============================] - 2s 74ms/step - loss: 2.9359 - accuracy: 0.1400 - val_loss: 2.9051 - val_accuracy: 0.1436\n",
            "Epoch 6/50\n",
            "28/28 [==============================] - 3s 94ms/step - loss: 2.7753 - accuracy: 0.1774 - val_loss: 2.2620 - val_accuracy: 0.2760\n",
            "Epoch 7/50\n",
            "28/28 [==============================] - 2s 79ms/step - loss: 2.5664 - accuracy: 0.2131 - val_loss: 2.1529 - val_accuracy: 0.3101\n",
            "Epoch 8/50\n",
            "28/28 [==============================] - 2s 75ms/step - loss: 2.4408 - accuracy: 0.2407 - val_loss: 1.8719 - val_accuracy: 0.3930\n",
            "Epoch 9/50\n",
            "28/28 [==============================] - 2s 75ms/step - loss: 2.3204 - accuracy: 0.2778 - val_loss: 1.7859 - val_accuracy: 0.4153\n",
            "Epoch 10/50\n",
            "28/28 [==============================] - 2s 75ms/step - loss: 2.1735 - accuracy: 0.3110 - val_loss: 1.9381 - val_accuracy: 0.3436\n",
            "Epoch 11/50\n",
            "28/28 [==============================] - 3s 94ms/step - loss: 2.0547 - accuracy: 0.3394 - val_loss: 1.5176 - val_accuracy: 0.5770\n",
            "Epoch 12/50\n",
            "28/28 [==============================] - 2s 74ms/step - loss: 1.9183 - accuracy: 0.3831 - val_loss: 1.2435 - val_accuracy: 0.6474\n",
            "Epoch 13/50\n",
            "28/28 [==============================] - 2s 77ms/step - loss: 1.7781 - accuracy: 0.4365 - val_loss: 1.1317 - val_accuracy: 0.6418\n",
            "Epoch 14/50\n",
            "28/28 [==============================] - 2s 71ms/step - loss: 1.6780 - accuracy: 0.4598 - val_loss: 1.0100 - val_accuracy: 0.6732\n",
            "Epoch 15/50\n",
            "28/28 [==============================] - 2s 89ms/step - loss: 1.5395 - accuracy: 0.4970 - val_loss: 1.3048 - val_accuracy: 0.5401\n",
            "Epoch 16/50\n",
            "28/28 [==============================] - 3s 88ms/step - loss: 1.3905 - accuracy: 0.5452 - val_loss: 0.8292 - val_accuracy: 0.7645\n",
            "Epoch 17/50\n",
            "28/28 [==============================] - 2s 72ms/step - loss: 1.2958 - accuracy: 0.5785 - val_loss: 0.8025 - val_accuracy: 0.6934\n",
            "Epoch 18/50\n",
            "28/28 [==============================] - 2s 73ms/step - loss: 1.2315 - accuracy: 0.5989 - val_loss: 0.4078 - val_accuracy: 0.8808\n",
            "Epoch 19/50\n",
            "28/28 [==============================] - 2s 71ms/step - loss: 1.0894 - accuracy: 0.6377 - val_loss: 0.4417 - val_accuracy: 0.8697\n",
            "Epoch 20/50\n",
            "28/28 [==============================] - 2s 71ms/step - loss: 0.9682 - accuracy: 0.6771 - val_loss: 0.3910 - val_accuracy: 0.8613\n",
            "Epoch 21/50\n",
            "28/28 [==============================] - 3s 92ms/step - loss: 0.9400 - accuracy: 0.6885 - val_loss: 0.3641 - val_accuracy: 0.8753\n",
            "Epoch 22/50\n",
            "28/28 [==============================] - 2s 77ms/step - loss: 0.8511 - accuracy: 0.7210 - val_loss: 0.3393 - val_accuracy: 0.8913\n",
            "Epoch 23/50\n",
            "28/28 [==============================] - 3s 119ms/step - loss: 0.7682 - accuracy: 0.7436 - val_loss: 0.3458 - val_accuracy: 0.8767\n",
            "Epoch 24/50\n",
            "28/28 [==============================] - 2s 78ms/step - loss: 0.7289 - accuracy: 0.7614 - val_loss: 0.2329 - val_accuracy: 0.9052\n",
            "Epoch 25/50\n",
            "28/28 [==============================] - 2s 75ms/step - loss: 0.6563 - accuracy: 0.7770 - val_loss: 0.2280 - val_accuracy: 0.9094\n",
            "Epoch 26/50\n",
            "28/28 [==============================] - 2s 78ms/step - loss: 0.6222 - accuracy: 0.7956 - val_loss: 0.1495 - val_accuracy: 0.9561\n",
            "Epoch 27/50\n",
            "28/28 [==============================] - 2s 75ms/step - loss: 0.5476 - accuracy: 0.8145 - val_loss: 0.0976 - val_accuracy: 0.9666\n",
            "Epoch 28/50\n",
            "28/28 [==============================] - 2s 78ms/step - loss: 0.5513 - accuracy: 0.8163 - val_loss: 0.1074 - val_accuracy: 0.9742\n",
            "Epoch 29/50\n",
            "28/28 [==============================] - 3s 93ms/step - loss: 0.4788 - accuracy: 0.8407 - val_loss: 0.2051 - val_accuracy: 0.9261\n",
            "Epoch 30/50\n",
            "28/28 [==============================] - 2s 75ms/step - loss: 0.4411 - accuracy: 0.8505 - val_loss: 0.0751 - val_accuracy: 0.9819\n",
            "Epoch 31/50\n",
            "28/28 [==============================] - 2s 75ms/step - loss: 0.3950 - accuracy: 0.8685 - val_loss: 0.0586 - val_accuracy: 0.9784\n",
            "Epoch 32/50\n",
            "28/28 [==============================] - 3s 105ms/step - loss: 0.3859 - accuracy: 0.8667 - val_loss: 0.0779 - val_accuracy: 0.9735\n",
            "Epoch 33/50\n",
            "28/28 [==============================] - 3s 92ms/step - loss: 0.3902 - accuracy: 0.8721 - val_loss: 0.0440 - val_accuracy: 0.9854\n",
            "Epoch 34/50\n",
            "28/28 [==============================] - 2s 80ms/step - loss: 0.3329 - accuracy: 0.8916 - val_loss: 0.0615 - val_accuracy: 0.9777\n",
            "Epoch 35/50\n",
            "28/28 [==============================] - 2s 72ms/step - loss: 0.3332 - accuracy: 0.8875 - val_loss: 0.1181 - val_accuracy: 0.9589\n",
            "Epoch 36/50\n",
            "28/28 [==============================] - 2s 80ms/step - loss: 0.3150 - accuracy: 0.8933 - val_loss: 0.0768 - val_accuracy: 0.9721\n",
            "Epoch 37/50\n",
            "28/28 [==============================] - 2s 76ms/step - loss: 0.2846 - accuracy: 0.9030 - val_loss: 0.0349 - val_accuracy: 0.9930\n",
            "Epoch 38/50\n",
            "28/28 [==============================] - 3s 96ms/step - loss: 0.2841 - accuracy: 0.9070 - val_loss: 0.0410 - val_accuracy: 0.9902\n",
            "Epoch 39/50\n",
            "28/28 [==============================] - 2s 79ms/step - loss: 0.2570 - accuracy: 0.9169 - val_loss: 0.1178 - val_accuracy: 0.9652\n",
            "Epoch 40/50\n",
            "28/28 [==============================] - 2s 74ms/step - loss: 0.2484 - accuracy: 0.9182 - val_loss: 0.0876 - val_accuracy: 0.9666\n",
            "Epoch 41/50\n",
            "28/28 [==============================] - 2s 76ms/step - loss: 0.2422 - accuracy: 0.9238 - val_loss: 0.0383 - val_accuracy: 0.9833\n",
            "Epoch 42/50\n",
            "28/28 [==============================] - 2s 80ms/step - loss: 0.2352 - accuracy: 0.9213 - val_loss: 0.0560 - val_accuracy: 0.9826\n",
            "Epoch 43/50\n",
            "28/28 [==============================] - 3s 103ms/step - loss: 0.2448 - accuracy: 0.9189 - val_loss: 0.0056 - val_accuracy: 0.9993\n",
            "Epoch 44/50\n",
            "28/28 [==============================] - 2s 80ms/step - loss: 0.1831 - accuracy: 0.9429 - val_loss: 0.0214 - val_accuracy: 0.9916\n",
            "Epoch 45/50\n",
            "28/28 [==============================] - 2s 79ms/step - loss: 0.1895 - accuracy: 0.9372 - val_loss: 0.0080 - val_accuracy: 0.9979\n",
            "Epoch 46/50\n",
            "28/28 [==============================] - 2s 78ms/step - loss: 0.1919 - accuracy: 0.9386 - val_loss: 0.0904 - val_accuracy: 0.9659\n",
            "Epoch 47/50\n",
            "28/28 [==============================] - 2s 72ms/step - loss: 0.1666 - accuracy: 0.9447 - val_loss: 0.0758 - val_accuracy: 0.9707\n",
            "Epoch 48/50\n",
            "28/28 [==============================] - 3s 100ms/step - loss: 0.1954 - accuracy: 0.9377 - val_loss: 0.0095 - val_accuracy: 0.9972\n",
            "Epoch 49/50\n",
            "28/28 [==============================] - 2s 73ms/step - loss: 0.1535 - accuracy: 0.9505 - val_loss: 0.0062 - val_accuracy: 1.0000\n",
            "Epoch 50/50\n",
            "28/28 [==============================] - 2s 71ms/step - loss: 0.1503 - accuracy: 0.9494 - val_loss: 0.0127 - val_accuracy: 0.9972\n"
          ]
        }
      ],
      "source": [
        "history = model.fit_generator(datagen.flow(X_train,Y_train, batch_size=batch_size),epochs = epochs, validation_data = (X_val,Y_val), steps_per_epoch=X_train.shape[0] // batch_size)"
      ]
    },
    {
      "cell_type": "code",
      "execution_count": 25,
      "metadata": {
        "colab": {
          "base_uri": "https://localhost:8080/",
          "height": 887
        },
        "id": "CXxmohbZnJjG",
        "outputId": "6607ca5e-0972-49f7-c1cf-3e5766ce5552"
      },
      "outputs": [
        {
          "output_type": "display_data",
          "data": {
            "text/plain": [
              "<Figure size 640x480 with 1 Axes>"
            ],
            "image/png": "[encoded data removed]"
          },
          "metadata": {}
        },
        {
          "output_type": "display_data",
          "data": {
            "text/plain": [
              "<Figure size 640x480 with 1 Axes>"
            ],
            "image/png": "[encoded data removed]"
          },
          "metadata": {}
        }
      ],
      "source": [
        "acc = history.history['accuracy']\n",
        "val_acc = history.history['val_accuracy']\n",
        "loss = history.history['loss']\n",
        "val_loss = history.history['val_loss']\n",
        "\n",
        "epochs = range(len(acc))\n",
        "\n",
        "plt.plot(epochs, acc, 'r', label='Training accuracy')\n",
        "plt.plot(epochs, val_acc, 'b', label='Validation accuracy')\n",
        "plt.title('Training and validation accuracy')\n",
        "plt.legend()\n",
        "plt.figure()\n",
        "\n",
        "plt.plot(epochs, loss, 'r', label='Training Loss')\n",
        "plt.plot(epochs, val_loss, 'b', label='Validation Loss')\n",
        "plt.title('Training and validation loss')\n",
        "plt.legend()\n",
        "\n",
        "plt.show()"
      ]
    }
  ],
  "metadata": {
    "kernelspec": {
      "display_name": "Python 3",
      "name": "python3"
    },
    "language_info": {
      "codemirror_mode": {
        "name": "ipython",
        "version": 3
      },
      "file_extension": ".py",
      "mimetype": "text/x-python",
      "name": "python",
      "nbconvert_exporter": "python",
      "pygments_lexer": "ipython3",
      "version": "3.10.5"
    },
    "colab": {
      "provenance": [],
      "gpuType": "T4"
    },
    "accelerator": "GPU"
  },
  "nbformat": 4,
  "nbformat_minor": 0
}